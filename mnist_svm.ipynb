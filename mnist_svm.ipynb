{
 "cells": [
  {
   "cell_type": "code",
   "id": "initial_id",
   "metadata": {
    "collapsed": true,
    "ExecuteTime": {
     "end_time": "2025-04-29T09:25:32.594349Z",
     "start_time": "2025-04-29T09:25:25.547561Z"
    }
   },
   "source": [
    "import numpy as np\n",
    "from matplotlib import pyplot as plt\n",
    "from sklearn.datasets import fetch_openml\n",
    "from sklearn.metrics import classification_report\n",
    "from sklearn.svm import SVC\n",
    "from sklearn.model_selection import train_test_split\n",
    "from sklearn.preprocessing import MinMaxScaler\n",
    "from sklearn.model_selection import GridSearchCV\n"
   ],
   "outputs": [],
   "execution_count": 1
  },
  {
   "metadata": {
    "ExecuteTime": {
     "end_time": "2025-04-29T09:25:39.282825Z",
     "start_time": "2025-04-29T09:25:32.608416Z"
    }
   },
   "cell_type": "code",
   "source": "x, y = fetch_openml('mnist_784', return_X_y=True, as_frame=False)",
   "id": "2e060b2cf45e239b",
   "outputs": [],
   "execution_count": 2
  },
  {
   "metadata": {
    "ExecuteTime": {
     "end_time": "2025-04-29T09:25:41.428980Z",
     "start_time": "2025-04-29T09:25:40.072191Z"
    }
   },
   "cell_type": "code",
   "source": [
    "scaler = MinMaxScaler()\n",
    "x = scaler.fit_transform(x)\n",
    "\n",
    "x_train, x_test, y_train, y_test = train_test_split(x, y, test_size=0.2, random_state=42)"
   ],
   "id": "dadef3a53426af05",
   "outputs": [],
   "execution_count": 3
  },
  {
   "metadata": {
    "ExecuteTime": {
     "end_time": "2025-04-29T09:29:42.079750Z",
     "start_time": "2025-04-29T09:25:41.449426Z"
    }
   },
   "cell_type": "code",
   "source": [
    "param_grid = {'C': [0.1, 1, 10, 100],\n",
    "              'kernel': ['rbf', 'linear'],\n",
    "              'gamma': ['scale', 'auto', 0.001, 0.01, 0.1]}\n",
    "\n",
    "grid_search = GridSearchCV(\n",
    "    estimator=SVC(verbose=True),\n",
    "    param_grid=param_grid,\n",
    "    cv=3,\n",
    "    n_jobs=-1,\n",
    "    verbose=2\n",
    ")\n",
    "\n",
    "grid_search.fit(x_train[:5000], y_train[:5000])\n",
    "\n",
    "best_model = grid_search.best_estimator_\n",
    "print(\"Best parameters found:\", grid_search.best_params_)"
   ],
   "id": "b43fd082174aa979",
   "outputs": [
    {
     "name": "stdout",
     "output_type": "stream",
     "text": [
      "Fitting 3 folds for each of 40 candidates, totalling 120 fits\n",
      "[LibSVM]Best parameters found: {'C': 10, 'gamma': 'scale', 'kernel': 'rbf'}\n"
     ]
    }
   ],
   "execution_count": 4
  },
  {
   "metadata": {
    "ExecuteTime": {
     "end_time": "2025-04-29T09:30:21.849553Z",
     "start_time": "2025-04-29T09:29:42.157711Z"
    }
   },
   "cell_type": "code",
   "source": [
    "y_pred = best_model.predict(x_test)\n",
    "print(classification_report(y_test, y_pred))\n",
    "print(\"Final accuracy:\", best_model.score(x_test, y_test) * 100)"
   ],
   "id": "a8e34bfe71286d5",
   "outputs": [
    {
     "name": "stdout",
     "output_type": "stream",
     "text": [
      "              precision    recall  f1-score   support\n",
      "\n",
      "           0       0.97      0.99      0.98      1343\n",
      "           1       0.97      0.98      0.98      1600\n",
      "           2       0.95      0.96      0.95      1380\n",
      "           3       0.94      0.94      0.94      1433\n",
      "           4       0.95      0.95      0.95      1295\n",
      "           5       0.95      0.94      0.95      1273\n",
      "           6       0.97      0.98      0.98      1396\n",
      "           7       0.97      0.95      0.96      1503\n",
      "           8       0.96      0.94      0.95      1357\n",
      "           9       0.94      0.94      0.94      1420\n",
      "\n",
      "    accuracy                           0.96     14000\n",
      "   macro avg       0.96      0.96      0.96     14000\n",
      "weighted avg       0.96      0.96      0.96     14000\n",
      "\n",
      "Final accuracy: 95.79285714285714\n"
     ]
    }
   ],
   "execution_count": 5
  },
  {
   "metadata": {
    "ExecuteTime": {
     "end_time": "2025-04-29T09:35:36.432913Z",
     "start_time": "2025-04-29T09:30:21.854570Z"
    }
   },
   "cell_type": "code",
   "source": [
    "model = SVC(**grid_search.best_params_, verbose=1)\n",
    "model.fit(x_train, y_train)\n",
    "\n",
    "y_pred = model.predict(x_test)\n",
    "print(classification_report(y_test, y_pred))\n",
    "print(model.score(x_test, y_test) * 100)\n"
   ],
   "id": "70d03fe6c08aaa6f",
   "outputs": [
    {
     "name": "stdout",
     "output_type": "stream",
     "text": [
      "[LibSVM]              precision    recall  f1-score   support\n",
      "\n",
      "           0       0.99      0.99      0.99      1343\n",
      "           1       0.99      0.99      0.99      1600\n",
      "           2       0.97      0.98      0.98      1380\n",
      "           3       0.98      0.98      0.98      1433\n",
      "           4       0.98      0.98      0.98      1295\n",
      "           5       0.98      0.98      0.98      1273\n",
      "           6       0.99      0.99      0.99      1396\n",
      "           7       0.98      0.98      0.98      1503\n",
      "           8       0.98      0.97      0.98      1357\n",
      "           9       0.98      0.97      0.97      1420\n",
      "\n",
      "    accuracy                           0.98     14000\n",
      "   macro avg       0.98      0.98      0.98     14000\n",
      "weighted avg       0.98      0.98      0.98     14000\n",
      "\n",
      "98.22142857142858\n"
     ]
    }
   ],
   "execution_count": 6
  },
  {
   "metadata": {
    "ExecuteTime": {
     "end_time": "2025-04-29T09:35:36.467098Z",
     "start_time": "2025-04-29T09:35:36.461533Z"
    }
   },
   "cell_type": "code",
   "source": [
    "false_index = np.where(y_test != y_pred)[0]\n",
    "true_count = len(y_test) - len(false_index)\n",
    "print(\"false_index:\", false_index)\n",
    "print(\"true_count:\", true_count)"
   ],
   "id": "67699e28c3302705",
   "outputs": [
    {
     "name": "stdout",
     "output_type": "stream",
     "text": [
      "false_index: [   59   174   241   293   313   385   579   649   699   758   789   830\n",
      "   895   940  1007  1111  1135  1163  1209  1251  1291  1297  1341  1342\n",
      "  1480  1495  1516  1546  1596  1611  1658  1711  1716  1826  1882  1918\n",
      "  1963  1965  1987  2025  2030  2049  2077  2092  2171  2209  2297  2341\n",
      "  2481  2602  2622  2666  2836  2857  2896  2993  3019  3044  3101  3174\n",
      "  3207  3234  3312  3390  3403  3564  3569  3581  3661  3712  3731  3767\n",
      "  3827  4008  4107  4152  4155  4280  4301  4384  4400  4409  4448  4453\n",
      "  4480  4625  4627  4676  4755  4906  4954  5023  5031  5052  5099  5112\n",
      "  5152  5179  5217  5253  5297  5299  5351  5438  5453  5473  5478  5515\n",
      "  5549  5560  5592  5596  5628  5741  5770  5887  6015  6019  6049  6294\n",
      "  6399  6519  6657  6672  6695  6711  6829  6841  6854  6907  7030  7082\n",
      "  7086  7088  7094  7289  7356  7400  7477  7619  7633  7741  7876  7893\n",
      "  7909  7929  7962  8039  8059  8082  8085  8136  8227  8239  8259  8315\n",
      "  8344  8479  8516  8542  8586  8606  8642  8663  8710  8711  8858  8897\n",
      "  8994  9023  9079  9101  9139  9257  9397  9480  9530  9546  9551  9625\n",
      "  9671  9707  9772  9838  9908  9966 10034 10154 10223 10303 10404 10459\n",
      " 10464 10656 10693 10732 10929 10975 10978 11058 11089 11112 11202 11366\n",
      " 11369 11392 11442 11501 11510 11561 11579 11609 11707 11711 11753 11809\n",
      " 11818 11842 12052 12061 12078 12178 12282 12296 12377 12457 12520 12621\n",
      " 12839 12858 13076 13243 13370 13581 13592 13600 13652 13657 13729 13741\n",
      " 13751 13761 13780 13791 13813 13903 13908 13944 13955]\n",
      "true_count: 13751\n"
     ]
    }
   ],
   "execution_count": 7
  },
  {
   "metadata": {
    "ExecuteTime": {
     "end_time": "2025-04-29T09:35:36.817632Z",
     "start_time": "2025-04-29T09:35:36.481597Z"
    }
   },
   "cell_type": "code",
   "source": [
    "dataset = np.load(\"digits.npz\")\n",
    "new_x = dataset[\"images\"]\n",
    "new_y = dataset[\"targets\"].astype(str)\n",
    "\n",
    "new_x = new_x.reshape(new_x.shape[0], -1)\n",
    "new_x = scaler.transform(new_x)"
   ],
   "id": "257b2f7e08c3de2d",
   "outputs": [],
   "execution_count": 8
  },
  {
   "metadata": {
    "ExecuteTime": {
     "end_time": "2025-04-29T09:35:36.899887Z",
     "start_time": "2025-04-29T09:35:36.829419Z"
    }
   },
   "cell_type": "code",
   "source": [
    "y_new_pred = model.predict(new_x)\n",
    "\n",
    "print(\"\\n new_pred for new data:\")\n",
    "print(\"===============================\")\n",
    "for i, (true, pred) in enumerate(zip(new_y, y_new_pred)):\n",
    "    status = \"✅\" if true == pred else \"❌\"\n",
    "    print(f\"{i + 1}: {true} → {pred} {status}\")"
   ],
   "id": "6e551e509271fee2",
   "outputs": [
    {
     "name": "stdout",
     "output_type": "stream",
     "text": [
      "\n",
      " new_pred for new data:\n",
      "===============================\n",
      "1: 0 → 0 ✅\n",
      "2: 1 → 1 ✅\n",
      "3: 2 → 2 ✅\n",
      "4: 3 → 3 ✅\n",
      "5: 4 → 4 ✅\n",
      "6: 5 → 3 ❌\n",
      "7: 6 → 6 ✅\n",
      "8: 7 → 3 ❌\n",
      "9: 8 → 2 ❌\n",
      "10: 9 → 9 ✅\n"
     ]
    }
   ],
   "execution_count": 9
  },
  {
   "metadata": {
    "ExecuteTime": {
     "end_time": "2025-04-29T09:35:36.914450Z",
     "start_time": "2025-04-29T09:35:36.910538Z"
    }
   },
   "cell_type": "code",
   "source": [
    "accuracy = np.mean(new_y == y_new_pred) * 100\n",
    "print(f\"accuracy : {accuracy:.2f}%\")"
   ],
   "id": "71b0b0b9fdf10cec",
   "outputs": [
    {
     "name": "stdout",
     "output_type": "stream",
     "text": [
      "accuracy : 70.00%\n"
     ]
    }
   ],
   "execution_count": 10
  }
 ],
 "metadata": {
  "kernelspec": {
   "display_name": "Python 3",
   "language": "python",
   "name": "python3"
  },
  "language_info": {
   "codemirror_mode": {
    "name": "ipython",
    "version": 2
   },
   "file_extension": ".py",
   "mimetype": "text/x-python",
   "name": "python",
   "nbconvert_exporter": "python",
   "pygments_lexer": "ipython2",
   "version": "2.7.6"
  }
 },
 "nbformat": 4,
 "nbformat_minor": 5
}
